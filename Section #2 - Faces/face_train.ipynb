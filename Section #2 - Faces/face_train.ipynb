{
 "cells": [
  {
   "cell_type": "markdown",
   "metadata": {},
   "source": [
    "+ 使用opencv內建的face recognzier\n",
    "+ 使用人臉資料集訓練"
   ]
  },
  {
   "cell_type": "code",
   "execution_count": 3,
   "metadata": {},
   "outputs": [
    {
     "name": "stdout",
     "output_type": "stream",
     "text": [
      "['Ben Afflek', 'Elton John', 'Jerry Seinfield', 'Mindy Kaling', 'Madonna']\n"
     ]
    }
   ],
   "source": [
    "import os \n",
    "import cv2\n",
    "import numpy as np\n",
    "\n",
    "people = []\n",
    "for i in os.listdir('./data/train'):\n",
    "    people.append(i)\n",
    "\n",
    "people.remove('.DS_Store')\n",
    "print(people)"
   ]
  },
  {
   "cell_type": "code",
   "execution_count": 4,
   "metadata": {},
   "outputs": [
    {
     "name": "stdout",
     "output_type": "stream",
     "text": [
      "length of feature = 100\n",
      "length of labels = 100\n"
     ]
    }
   ],
   "source": [
    "\"\"\"\n",
    "從 train讀入人臉資料，並抓出特徵append到feature\n",
    "同時建立對應label\n",
    "\"\"\"\n",
    "DIR = './data/train'\n",
    "haar_cascade = cv2.CascadeClassifier('./haar_face.xml')\n",
    "\n",
    "feature = [] # 人臉影像特徵\n",
    "labels = [] # 對應特徵的label\n",
    "\n",
    "def create_train():\n",
    "    for person in people:\n",
    "        path = os.path.join(DIR, person)\n",
    "        label = people.index(person)\n",
    "\n",
    "        # 進去資料集抓資料\n",
    "        for img in os.listdir(path):\n",
    "            img_path = os.path.join(path, img)\n",
    "\n",
    "            img_array = cv2.imread(img_path)\n",
    "            gray = cv2.cvtColor(img_array, cv2.COLOR_BGR2GRAY)\n",
    "\n",
    "            face_rect = haar_cascade.detectMultiScale(gray, scaleFactor=1.1, minNeighbors=4)\n",
    "            for (x,y,w,h) in face_rect:\n",
    "                face_roi = gray[y:y+h, x:x+w]\n",
    "                feature.append(face_roi)\n",
    "                labels.append(label)\n",
    "\n",
    "create_train()\n",
    "print(f'length of feature = {len(feature)}')\n",
    "print(f'length of labels = {len(labels)}')"
   ]
  },
  {
   "cell_type": "code",
   "execution_count": 5,
   "metadata": {},
   "outputs": [
    {
     "name": "stdout",
     "output_type": "stream",
     "text": [
      "training done---------------------\n"
     ]
    }
   ],
   "source": [
    "feature = np.array(feature, dtype='object')\n",
    "labels = np.array(labels)\n",
    "\n",
    "# opencv built-in face recognizer\n",
    "face_recognizer = cv2.face.LBPHFaceRecognizer_create()\n",
    "\n",
    "# 使用feature和labels list訓練recognizer\n",
    "face_recognizer.train(feature, labels)\n",
    "\n",
    "print('training done---------------------')\n",
    "face_recognizer.save('face_trained.yml')\n",
    "np.save('feature.npy', feature)\n",
    "np.save('labels.npy', labels)"
   ]
  },
  {
   "cell_type": "code",
   "execution_count": null,
   "metadata": {},
   "outputs": [],
   "source": []
  }
 ],
 "metadata": {
  "kernelspec": {
   "display_name": "Python 3",
   "language": "python",
   "name": "python3"
  },
  "language_info": {
   "codemirror_mode": {
    "name": "ipython",
    "version": 3
   },
   "file_extension": ".py",
   "mimetype": "text/x-python",
   "name": "python",
   "nbconvert_exporter": "python",
   "pygments_lexer": "ipython3",
   "version": "3.8.3"
  }
 },
 "nbformat": 4,
 "nbformat_minor": 4
}
